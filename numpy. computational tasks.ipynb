{
  "cells": [
    {
      "cell_type": "code",
      "execution_count": 4,
      "metadata": {
        "id": "HtY0LgAKhq-h"
      },
      "outputs": [],
      "source": [
        "import numpy as np\n",
        "from numpy import linalg"
      ]
    },
    {
      "cell_type": "markdown",
      "source": [
        "1. Создайте numpy array с элементами от числа N до 0. Например, для N = 10 это будет array([9, 8, 7, 6, 5, 4, 3, 2, 1, 0]))."
      ],
      "metadata": {
        "id": "ip4iZ02Myw3a"
      }
    },
    {
      "cell_type": "code",
      "source": [
        "def my_array(N):\n",
        "    return np.arange(0, N)[::-1]\n",
        " \n",
        "print(my_array(10))\n",
        "print(my_array(15))\n",
        "print(my_array(20))"
      ],
      "metadata": {
        "colab": {
          "base_uri": "https://localhost:8080/"
        },
        "id": "dbfQjS2iy0KY",
        "outputId": "71e83989-a597-4903-9460-58089957fd85"
      },
      "execution_count": 2,
      "outputs": [
        {
          "output_type": "stream",
          "name": "stdout",
          "text": [
            "[9 8 7 6 5 4 3 2 1 0]\n",
            "[14 13 12 11 10  9  8  7  6  5  4  3  2  1  0]\n",
            "[19 18 17 16 15 14 13 12 11 10  9  8  7  6  5  4  3  2  1  0]\n"
          ]
        }
      ]
    },
    {
      "cell_type": "markdown",
      "source": [
        "2. Создайте диагональную матрицу с элементами от N до 0. Посчитайте сумму ее значений на диагонали."
      ],
      "metadata": {
        "id": "AmAbvpAPy2yD"
      }
    },
    {
      "cell_type": "code",
      "source": [
        "def sum_matrix(N):\n",
        "    my_matrix = sum(sum(np.diag(np.arange(N, 0, -1))))\n",
        "    return my_matrix\n",
        " \n",
        "print(sum_matrix(5))\n",
        "print(sum_matrix(10))\n",
        "print(sum_matrix(15))"
      ],
      "metadata": {
        "colab": {
          "base_uri": "https://localhost:8080/"
        },
        "id": "PSm6_Opry5ih",
        "outputId": "33de0f46-6bb1-420d-a639-52c96668f4a7"
      },
      "execution_count": 3,
      "outputs": [
        {
          "output_type": "stream",
          "name": "stdout",
          "text": [
            "15\n",
            "55\n",
            "120\n"
          ]
        }
      ]
    },
    {
      "cell_type": "markdown",
      "source": [
        "3. \n",
        "Решите систему уравнений:\n",
        "```\n",
        "4x + 2y + z = 4\n",
        "x + 3y = 12\n",
        "5y + 4z = -3\n",
        "```"
      ],
      "metadata": {
        "id": "ynOzkxSry8r5"
      }
    },
    {
      "cell_type": "code",
      "source": [
        "def solve_system_equations():\n",
        "    a = np.array([[4, 2, 1], [1, 3, 0], [0, 5, 4]])\n",
        "    b = np.array([4, 12, -3])\n",
        "    return linalg.solve(a, b)\n",
        "\n",
        "print(solve_system_equations())"
      ],
      "metadata": {
        "colab": {
          "base_uri": "https://localhost:8080/"
        },
        "id": "Z134hIozzCfg",
        "outputId": "4db7c2a0-db07-43f2-be65-d9031e24e409"
      },
      "execution_count": 5,
      "outputs": [
        {
          "output_type": "stream",
          "name": "stdout",
          "text": [
            "[ 0.46666667  3.84444444 -5.55555556]\n"
          ]
        }
      ]
    },
    {
      "cell_type": "markdown",
      "source": [
        "4. Имеется матрица покупок в интернет-магазине. Столбец А - ID пользователя. \n",
        "Остальные столбцы - количество покупок категорий товаров этим пользователем.\n",
        "\n",
        "Матрица в виде numpy array\n",
        "```\n",
        "users_stats = np.array(\n",
        "    [\n",
        "        [2, 1, 0, 0, 0, 0],\n",
        "        [1, 1, 2, 1, 0, 0],\n",
        "        [2, 0, 1, 0, 0, 0],\n",
        "        [1, 1, 2, 1, 0, 1],\n",
        "        [0, 0, 1, 2, 0, 0],\n",
        "        [0, 0, 0, 0, 0, 5],\n",
        "        [1, 0, 0, 0, 0, 0],\n",
        "        [0, 1, 1, 0, 0, 0],\n",
        "        [0, 0, 0, 1, 1, 3],\n",
        "        [1, 0, 0, 2, 1, 4]\n",
        "    ], \n",
        "    np.int32\n",
        ")\n",
        "```\n",
        "На сайт заходит очередной посетитель, о покупках которого известно следующее:\n",
        "\n",
        "```next_user_stats = np.array([0, 1, 2, 0, 0, 0])```\n",
        "Найдите индекс самого похожего пользователя max_index, т.е. посчитайте косинусное сходство между этим пользователем и всеми пользователями из массива user_stats.\n",
        "Нумерацию индексов следует начинать с 0"
      ],
      "metadata": {
        "id": "G__WIjVZzYoR"
      }
    },
    {
      "cell_type": "code",
      "source": [
        "users_stats = np.array(\n",
        "    [\n",
        "        [2, 1, 0, 0, 0, 0],\n",
        "        [1, 1, 2, 1, 0, 0],\n",
        "        [2, 0, 1, 0, 0, 0],\n",
        "        [1, 1, 2, 1, 0, 1],\n",
        "        [0, 0, 1, 2, 0, 0],\n",
        "        [0, 0, 0, 0, 0, 5],\n",
        "        [1, 0, 0, 0, 0, 0],\n",
        "        [0, 1, 1, 0, 0, 0],\n",
        "        [0, 0, 0, 1, 1, 3],\n",
        "        [1, 0, 0, 2, 1, 4]\n",
        "    ], \n",
        ")\n",
        "\n",
        "next_user_stats = np.array([0, 1, 2, 0, 0, 0])\n",
        "\n",
        "i = 0\n",
        "\n",
        "bLength = np.linalg.norm(next_user_stats)\n",
        "\n",
        "dict_ = {}\n",
        "\n",
        "for key, value in enumerate(users_stats):\n",
        "    \n",
        "    while i < len(users_stats):\n",
        "        result = np.linalg.norm(users_stats[key])\n",
        "        dict_[key] = np.dot(users_stats[key], next_user_stats) / (result * bLength)\n",
        "        i = i + 1\n",
        "        key = key + 1\n",
        "        \n",
        "print(max(dict_, key=dict_.get))"
      ],
      "metadata": {
        "colab": {
          "base_uri": "https://localhost:8080/"
        },
        "id": "nrbH6-R1zJAV",
        "outputId": "af462d3a-1db7-4129-aabf-088e0b8b3f2e"
      },
      "execution_count": 6,
      "outputs": [
        {
          "output_type": "stream",
          "name": "stdout",
          "text": [
            "7\n"
          ]
        }
      ]
    }
  ],
  "metadata": {
    "colab": {
      "provenance": []
    },
    "kernelspec": {
      "display_name": "Python 3",
      "name": "python3"
    },
    "language_info": {
      "name": "python"
    }
  },
  "nbformat": 4,
  "nbformat_minor": 0
}